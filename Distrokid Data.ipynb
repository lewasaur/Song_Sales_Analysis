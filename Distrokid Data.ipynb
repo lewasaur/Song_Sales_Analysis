{
 "cells": [
  {
   "cell_type": "markdown",
   "id": "c9725403",
   "metadata": {},
   "source": [
    "# Sales data from my Distrokid Account\n",
    "\n",
    "I make digital music and upload them on Distrokid which distributes them to different music streaming platforms and would like to analyze my performance.\n",
    "\n",
    "Questions I would like to answer:\n",
    "1. Which song has the most hits\n",
    "2. which country has the most hits\n",
    "3. do songs with older release dates have more hits than newer ones\n",
    "4. Which store has the most sales"
   ]
  },
  {
   "cell_type": "markdown",
   "id": "343bcb43",
   "metadata": {},
   "source": [
    "### Setup and import libraries"
   ]
  },
  {
   "cell_type": "code",
   "execution_count": 40,
   "id": "2f6a7182",
   "metadata": {},
   "outputs": [],
   "source": [
    "import pandas as pd\n",
    "#from pandas import DataFrame as df\n",
    "import matplotlib.pyplot as pltEarnings (USD)\n"
   ]
  },
  {
   "cell_type": "code",
   "execution_count": 52,
   "id": "cccd4042",
   "metadata": {},
   "outputs": [],
   "source": [
    "m_data = pd.read_csv('distrokid_bank_lewasaur.tsv', sep='\\t')\n",
    "# Dataset downloaded directly from Distrokid"
   ]
  },
  {
   "cell_type": "code",
   "execution_count": 15,
   "id": "d9742281",
   "metadata": {},
   "outputs": [
    {
     "data": {
      "text/plain": [
       "(160, 13)"
      ]
     },
     "execution_count": 15,
     "metadata": {},
     "output_type": "execute_result"
    }
   ],
   "source": [
    "m_data.shape"
   ]
  },
  {
   "cell_type": "code",
   "execution_count": 16,
   "id": "63832d07",
   "metadata": {
    "scrolled": true
   },
   "outputs": [
    {
     "data": {
      "text/html": [
       "<div>\n",
       "<style scoped>\n",
       "    .dataframe tbody tr th:only-of-type {\n",
       "        vertical-align: middle;\n",
       "    }\n",
       "\n",
       "    .dataframe tbody tr th {\n",
       "        vertical-align: top;\n",
       "    }\n",
       "\n",
       "    .dataframe thead th {\n",
       "        text-align: right;\n",
       "    }\n",
       "</style>\n",
       "<table border=\"1\" class=\"dataframe\">\n",
       "  <thead>\n",
       "    <tr style=\"text-align: right;\">\n",
       "      <th></th>\n",
       "      <th>Reporting Date</th>\n",
       "      <th>Sale Month</th>\n",
       "      <th>Store</th>\n",
       "      <th>Artist</th>\n",
       "      <th>Title</th>\n",
       "      <th>ISRC</th>\n",
       "      <th>UPC</th>\n",
       "      <th>Quantity</th>\n",
       "      <th>Team Percentage</th>\n",
       "      <th>Song/Album</th>\n",
       "      <th>Country of Sale</th>\n",
       "      <th>Songwriter Royalties Withheld</th>\n",
       "      <th>Earnings (USD)</th>\n",
       "    </tr>\n",
       "  </thead>\n",
       "  <tbody>\n",
       "    <tr>\n",
       "      <th>0</th>\n",
       "      <td>2021-11-24</td>\n",
       "      <td>2021-09</td>\n",
       "      <td>spotify</td>\n",
       "      <td>lewasaur</td>\n",
       "      <td>celestial spark</td>\n",
       "      <td>QZMEQ2183637</td>\n",
       "      <td>196400657231</td>\n",
       "      <td>47</td>\n",
       "      <td>100</td>\n",
       "      <td>Song</td>\n",
       "      <td>PH</td>\n",
       "      <td>0</td>\n",
       "      <td>0.042168</td>\n",
       "    </tr>\n",
       "    <tr>\n",
       "      <th>1</th>\n",
       "      <td>2021-11-24</td>\n",
       "      <td>2021-09</td>\n",
       "      <td>spotify</td>\n",
       "      <td>lewasaur</td>\n",
       "      <td>celestial spark</td>\n",
       "      <td>QZMEQ2183637</td>\n",
       "      <td>196400657231</td>\n",
       "      <td>4</td>\n",
       "      <td>100</td>\n",
       "      <td>Song</td>\n",
       "      <td>US</td>\n",
       "      <td>0</td>\n",
       "      <td>0.022279</td>\n",
       "    </tr>\n",
       "    <tr>\n",
       "      <th>2</th>\n",
       "      <td>2021-11-24</td>\n",
       "      <td>2021-09</td>\n",
       "      <td>spotify</td>\n",
       "      <td>lewasaur</td>\n",
       "      <td>celestial spark</td>\n",
       "      <td>QZMEQ2183637</td>\n",
       "      <td>196400657231</td>\n",
       "      <td>0</td>\n",
       "      <td>100</td>\n",
       "      <td>Song</td>\n",
       "      <td>PH</td>\n",
       "      <td>0</td>\n",
       "      <td>0.005672</td>\n",
       "    </tr>\n",
       "    <tr>\n",
       "      <th>3</th>\n",
       "      <td>2021-11-24</td>\n",
       "      <td>2021-09</td>\n",
       "      <td>spotify</td>\n",
       "      <td>lewasaur</td>\n",
       "      <td>serene nights and pristine sights</td>\n",
       "      <td>QZMEQ2183639</td>\n",
       "      <td>196400657231</td>\n",
       "      <td>43</td>\n",
       "      <td>100</td>\n",
       "      <td>Song</td>\n",
       "      <td>PH</td>\n",
       "      <td>0</td>\n",
       "      <td>0.036937</td>\n",
       "    </tr>\n",
       "    <tr>\n",
       "      <th>4</th>\n",
       "      <td>2021-11-24</td>\n",
       "      <td>2021-09</td>\n",
       "      <td>spotify</td>\n",
       "      <td>lewasaur</td>\n",
       "      <td>serene nights and pristine sights</td>\n",
       "      <td>QZMEQ2183639</td>\n",
       "      <td>196400657231</td>\n",
       "      <td>2</td>\n",
       "      <td>100</td>\n",
       "      <td>Song</td>\n",
       "      <td>US</td>\n",
       "      <td>0</td>\n",
       "      <td>0.011139</td>\n",
       "    </tr>\n",
       "  </tbody>\n",
       "</table>\n",
       "</div>"
      ],
      "text/plain": [
       "  Reporting Date Sale Month    Store    Artist  \\\n",
       "0     2021-11-24    2021-09  spotify  lewasaur   \n",
       "1     2021-11-24    2021-09  spotify  lewasaur   \n",
       "2     2021-11-24    2021-09  spotify  lewasaur   \n",
       "3     2021-11-24    2021-09  spotify  lewasaur   \n",
       "4     2021-11-24    2021-09  spotify  lewasaur   \n",
       "\n",
       "                               Title          ISRC           UPC  Quantity  \\\n",
       "0                    celestial spark  QZMEQ2183637  196400657231        47   \n",
       "1                    celestial spark  QZMEQ2183637  196400657231         4   \n",
       "2                    celestial spark  QZMEQ2183637  196400657231         0   \n",
       "3  serene nights and pristine sights  QZMEQ2183639  196400657231        43   \n",
       "4  serene nights and pristine sights  QZMEQ2183639  196400657231         2   \n",
       "\n",
       "   Team Percentage Song/Album Country of Sale  Songwriter Royalties Withheld  \\\n",
       "0              100       Song              PH                              0   \n",
       "1              100       Song              US                              0   \n",
       "2              100       Song              PH                              0   \n",
       "3              100       Song              PH                              0   \n",
       "4              100       Song              US                              0   \n",
       "\n",
       "   Earnings (USD)  \n",
       "0        0.042168  \n",
       "1        0.022279  \n",
       "2        0.005672  \n",
       "3        0.036937  \n",
       "4        0.011139  "
      ]
     },
     "execution_count": 16,
     "metadata": {},
     "output_type": "execute_result"
    }
   ],
   "source": [
    "m_data.head()"
   ]
  },
  {
   "cell_type": "markdown",
   "id": "f97b8f5a",
   "metadata": {},
   "source": [
    "### Cleaning the data by making a new Dataframe"
   ]
  },
  {
   "cell_type": "code",
   "execution_count": 17,
   "id": "e69b28b2",
   "metadata": {},
   "outputs": [
    {
     "data": {
      "text/html": [
       "<div>\n",
       "<style scoped>\n",
       "    .dataframe tbody tr th:only-of-type {\n",
       "        vertical-align: middle;\n",
       "    }\n",
       "\n",
       "    .dataframe tbody tr th {\n",
       "        vertical-align: top;\n",
       "    }\n",
       "\n",
       "    .dataframe thead th {\n",
       "        text-align: right;\n",
       "    }\n",
       "</style>\n",
       "<table border=\"1\" class=\"dataframe\">\n",
       "  <thead>\n",
       "    <tr style=\"text-align: right;\">\n",
       "      <th></th>\n",
       "      <th>Quantity</th>\n",
       "      <th>Earnings (USD)</th>\n",
       "    </tr>\n",
       "  </thead>\n",
       "  <tbody>\n",
       "    <tr>\n",
       "      <th>count</th>\n",
       "      <td>160.000000</td>\n",
       "      <td>160.000000</td>\n",
       "    </tr>\n",
       "    <tr>\n",
       "      <th>mean</th>\n",
       "      <td>36.100000</td>\n",
       "      <td>0.046353</td>\n",
       "    </tr>\n",
       "    <tr>\n",
       "      <th>std</th>\n",
       "      <td>62.877159</td>\n",
       "      <td>0.079918</td>\n",
       "    </tr>\n",
       "    <tr>\n",
       "      <th>min</th>\n",
       "      <td>0.000000</td>\n",
       "      <td>0.000037</td>\n",
       "    </tr>\n",
       "    <tr>\n",
       "      <th>25%</th>\n",
       "      <td>1.000000</td>\n",
       "      <td>0.001192</td>\n",
       "    </tr>\n",
       "    <tr>\n",
       "      <th>50%</th>\n",
       "      <td>2.000000</td>\n",
       "      <td>0.006109</td>\n",
       "    </tr>\n",
       "    <tr>\n",
       "      <th>75%</th>\n",
       "      <td>39.250000</td>\n",
       "      <td>0.040269</td>\n",
       "    </tr>\n",
       "    <tr>\n",
       "      <th>max</th>\n",
       "      <td>233.000000</td>\n",
       "      <td>0.296898</td>\n",
       "    </tr>\n",
       "  </tbody>\n",
       "</table>\n",
       "</div>"
      ],
      "text/plain": [
       "         Quantity  Earnings (USD)\n",
       "count  160.000000      160.000000\n",
       "mean    36.100000        0.046353\n",
       "std     62.877159        0.079918\n",
       "min      0.000000        0.000037\n",
       "25%      1.000000        0.001192\n",
       "50%      2.000000        0.006109\n",
       "75%     39.250000        0.040269\n",
       "max    233.000000        0.296898"
      ]
     },
     "execution_count": 17,
     "metadata": {},
     "output_type": "execute_result"
    }
   ],
   "source": [
    "m_columns = ['Sale Month', 'Store', 'Title', 'Quantity', 'Country of Sale', 'Earnings (USD)']\n",
    "new_data = m_data[m_columns].copy()\n",
    "new_data.describe()"
   ]
  },
  {
   "cell_type": "code",
   "execution_count": 18,
   "id": "a8089c43",
   "metadata": {},
   "outputs": [
    {
     "data": {
      "text/html": [
       "<div>\n",
       "<style scoped>\n",
       "    .dataframe tbody tr th:only-of-type {\n",
       "        vertical-align: middle;\n",
       "    }\n",
       "\n",
       "    .dataframe tbody tr th {\n",
       "        vertical-align: top;\n",
       "    }\n",
       "\n",
       "    .dataframe thead th {\n",
       "        text-align: right;\n",
       "    }\n",
       "</style>\n",
       "<table border=\"1\" class=\"dataframe\">\n",
       "  <thead>\n",
       "    <tr style=\"text-align: right;\">\n",
       "      <th></th>\n",
       "      <th>Sale Month</th>\n",
       "      <th>Store</th>\n",
       "      <th>Title</th>\n",
       "      <th>Quantity</th>\n",
       "      <th>Country of Sale</th>\n",
       "      <th>Earnings (USD)</th>\n",
       "    </tr>\n",
       "  </thead>\n",
       "  <tbody>\n",
       "    <tr>\n",
       "      <th>0</th>\n",
       "      <td>2021-09</td>\n",
       "      <td>spotify</td>\n",
       "      <td>celestial spark</td>\n",
       "      <td>47</td>\n",
       "      <td>PH</td>\n",
       "      <td>0.042168</td>\n",
       "    </tr>\n",
       "    <tr>\n",
       "      <th>1</th>\n",
       "      <td>2021-09</td>\n",
       "      <td>spotify</td>\n",
       "      <td>celestial spark</td>\n",
       "      <td>4</td>\n",
       "      <td>US</td>\n",
       "      <td>0.022279</td>\n",
       "    </tr>\n",
       "    <tr>\n",
       "      <th>2</th>\n",
       "      <td>2021-09</td>\n",
       "      <td>spotify</td>\n",
       "      <td>celestial spark</td>\n",
       "      <td>0</td>\n",
       "      <td>PH</td>\n",
       "      <td>0.005672</td>\n",
       "    </tr>\n",
       "    <tr>\n",
       "      <th>3</th>\n",
       "      <td>2021-09</td>\n",
       "      <td>spotify</td>\n",
       "      <td>serene nights and pristine sights</td>\n",
       "      <td>43</td>\n",
       "      <td>PH</td>\n",
       "      <td>0.036937</td>\n",
       "    </tr>\n",
       "    <tr>\n",
       "      <th>4</th>\n",
       "      <td>2021-09</td>\n",
       "      <td>spotify</td>\n",
       "      <td>serene nights and pristine sights</td>\n",
       "      <td>2</td>\n",
       "      <td>US</td>\n",
       "      <td>0.011139</td>\n",
       "    </tr>\n",
       "  </tbody>\n",
       "</table>\n",
       "</div>"
      ],
      "text/plain": [
       "  Sale Month    Store                              Title  Quantity  \\\n",
       "0    2021-09  spotify                    celestial spark        47   \n",
       "1    2021-09  spotify                    celestial spark         4   \n",
       "2    2021-09  spotify                    celestial spark         0   \n",
       "3    2021-09  spotify  serene nights and pristine sights        43   \n",
       "4    2021-09  spotify  serene nights and pristine sights         2   \n",
       "\n",
       "  Country of Sale  Earnings (USD)  \n",
       "0              PH        0.042168  \n",
       "1              US        0.022279  \n",
       "2              PH        0.005672  \n",
       "3              PH        0.036937  \n",
       "4              US        0.011139  "
      ]
     },
     "execution_count": 18,
     "metadata": {},
     "output_type": "execute_result"
    }
   ],
   "source": [
    "new_data.head()"
   ]
  },
  {
   "cell_type": "code",
   "execution_count": 19,
   "id": "3519504f",
   "metadata": {},
   "outputs": [
    {
     "data": {
      "text/html": [
       "<div>\n",
       "<style scoped>\n",
       "    .dataframe tbody tr th:only-of-type {\n",
       "        vertical-align: middle;\n",
       "    }\n",
       "\n",
       "    .dataframe tbody tr th {\n",
       "        vertical-align: top;\n",
       "    }\n",
       "\n",
       "    .dataframe thead th {\n",
       "        text-align: right;\n",
       "    }\n",
       "</style>\n",
       "<table border=\"1\" class=\"dataframe\">\n",
       "  <thead>\n",
       "    <tr style=\"text-align: right;\">\n",
       "      <th></th>\n",
       "      <th>Quantity</th>\n",
       "      <th>Earnings (USD)</th>\n",
       "    </tr>\n",
       "  </thead>\n",
       "  <tbody>\n",
       "    <tr>\n",
       "      <th>count</th>\n",
       "      <td>160.000000</td>\n",
       "      <td>160.000000</td>\n",
       "    </tr>\n",
       "    <tr>\n",
       "      <th>mean</th>\n",
       "      <td>36.100000</td>\n",
       "      <td>0.046353</td>\n",
       "    </tr>\n",
       "    <tr>\n",
       "      <th>std</th>\n",
       "      <td>62.877159</td>\n",
       "      <td>0.079918</td>\n",
       "    </tr>\n",
       "    <tr>\n",
       "      <th>min</th>\n",
       "      <td>0.000000</td>\n",
       "      <td>0.000037</td>\n",
       "    </tr>\n",
       "    <tr>\n",
       "      <th>25%</th>\n",
       "      <td>1.000000</td>\n",
       "      <td>0.001192</td>\n",
       "    </tr>\n",
       "    <tr>\n",
       "      <th>50%</th>\n",
       "      <td>2.000000</td>\n",
       "      <td>0.006109</td>\n",
       "    </tr>\n",
       "    <tr>\n",
       "      <th>75%</th>\n",
       "      <td>39.250000</td>\n",
       "      <td>0.040269</td>\n",
       "    </tr>\n",
       "    <tr>\n",
       "      <th>max</th>\n",
       "      <td>233.000000</td>\n",
       "      <td>0.296898</td>\n",
       "    </tr>\n",
       "  </tbody>\n",
       "</table>\n",
       "</div>"
      ],
      "text/plain": [
       "         Quantity  Earnings (USD)\n",
       "count  160.000000      160.000000\n",
       "mean    36.100000        0.046353\n",
       "std     62.877159        0.079918\n",
       "min      0.000000        0.000037\n",
       "25%      1.000000        0.001192\n",
       "50%      2.000000        0.006109\n",
       "75%     39.250000        0.040269\n",
       "max    233.000000        0.296898"
      ]
     },
     "execution_count": 19,
     "metadata": {},
     "output_type": "execute_result"
    }
   ],
   "source": [
    "new_data.describe()"
   ]
  },
  {
   "cell_type": "markdown",
   "id": "2f1135f3",
   "metadata": {},
   "source": [
    "### Determining which store has the most sales"
   ]
  },
  {
   "cell_type": "code",
   "execution_count": 20,
   "id": "dd006572",
   "metadata": {},
   "outputs": [
    {
     "name": "stdout",
     "output_type": "stream",
     "text": [
      "spotify             141\n",
      "youtube              15\n",
      "amazon unlimited      1\n",
      "yandex                1\n",
      "tidal                 1\n",
      "youtube red           1\n",
      "Name: Store, dtype: int64\n"
     ]
    }
   ],
   "source": [
    "# Which stores have the most sales\n",
    "store_series = new_data['Store'].value_counts()\n",
    "print(store_series)"
   ]
  },
  {
   "cell_type": "code",
   "execution_count": 26,
   "id": "a6083bee",
   "metadata": {},
   "outputs": [
    {
     "data": {
      "image/png": "[encoded data removed]",
      "text/plain": [
       "<Figure size 432x432 with 1 Axes>"
      ]
     },
     "metadata": {},
     "output_type": "display_data"
    }
   ],
   "source": [
    "#4\n",
    "\n",
    "store_list = ['spotify', 'youtube', 'amazon unlimited', 'yandex', 'tidal', 'youtube red']\n",
    "plt.figure(figsize=(6,6))\n",
    "plt.pie(store_series,labels=store_list,autopct='%1.1f%%', startangle=15)\n",
    "plt.title('Stores')\n",
    "plt.axis('equal')\n",
    "plt.show()"
   ]
  },
  {
   "cell_type": "markdown",
   "id": "f16c4d35",
   "metadata": {},
   "source": [
    "It seems like majority of the sales are from **spotify** while *youtube* is the 2nd contributor with only 9.4% where the rest of the stores only contribute less than 1% each."
   ]
  },
  {
   "cell_type": "code",
   "execution_count": 21,
   "id": "146a7b5f",
   "metadata": {},
   "outputs": [
    {
     "name": "stdout",
     "output_type": "stream",
     "text": [
      "don't worry nt                       29\n",
      "comfortville                         27\n",
      "eternal bliss                        24\n",
      "sadskie                              21\n",
      "happy hydration                      16\n",
      "celestial spark                      13\n",
      "serene nights and pristine sights    12\n",
      "cold strawberry milk box             10\n",
      "mellow cutie starlight                8\n",
      "Name: Title, dtype: int64\n"
     ]
    }
   ],
   "source": [
    "\n",
    "song_series = new_data['Title'].value_counts()\n",
    "print(song_series)"
   ]
  },
  {
   "cell_type": "code",
   "execution_count": 23,
   "id": "85fb365c",
   "metadata": {
    "scrolled": true
   },
   "outputs": [
    {
     "data": {
      "image/png": "[encoded data removed]",
      "text/plain": [
       "<Figure size 720x360 with 1 Axes>"
      ]
     },
     "metadata": {},
     "output_type": "display_data"
    }
   ],
   "source": [
    "#1\n",
    "\n",
    "song_list = ['don\\'t worry nt', 'comfortville', 'eternal bliss', 'sadskie', 'happy hydration', 'celestial spark',\n",
    "             'serene nights and pristine sights', 'cold strawberry milk box', 'mellow cutie starlight']\n",
    "plt.figure(figsize=(10,5))\n",
    "plt.pie(song_series,labels=song_list,autopct='%1.1f%%', startangle=15)\n",
    "plt.title('Songs')\n",
    "plt.axis('equal')\n",
    "plt.show()"
   ]
  },
  {
   "cell_type": "markdown",
   "id": "50a1e249",
   "metadata": {},
   "source": [
    "The song with the most plays is **don't worry nt** with *18.1%* of the total plays are from that song while the 2nd most played song is **comfortville** comes close with *16.9%*."
   ]
  },
  {
   "cell_type": "code",
   "execution_count": 47,
   "id": "da3222a1",
   "metadata": {},
   "outputs": [
    {
     "data": {
      "text/html": [
       "<div>\n",
       "<style scoped>\n",
       "    .dataframe tbody tr th:only-of-type {\n",
       "        vertical-align: middle;\n",
       "    }\n",
       "\n",
       "    .dataframe tbody tr th {\n",
       "        vertical-align: top;\n",
       "    }\n",
       "\n",
       "    .dataframe thead th {\n",
       "        text-align: right;\n",
       "    }\n",
       "</style>\n",
       "<table border=\"1\" class=\"dataframe\">\n",
       "  <thead>\n",
       "    <tr style=\"text-align: right;\">\n",
       "      <th></th>\n",
       "      <th>song_name</th>\n",
       "      <th>release_date</th>\n",
       "    </tr>\n",
       "  </thead>\n",
       "  <tbody>\n",
       "    <tr>\n",
       "      <th>0</th>\n",
       "      <td>comfortville</td>\n",
       "      <td>2021-10</td>\n",
       "    </tr>\n",
       "    <tr>\n",
       "      <th>1</th>\n",
       "      <td>celestial spark</td>\n",
       "      <td>2021-10</td>\n",
       "    </tr>\n",
       "    <tr>\n",
       "      <th>2</th>\n",
       "      <td>eternal bliss</td>\n",
       "      <td>2021-10</td>\n",
       "    </tr>\n",
       "    <tr>\n",
       "      <th>3</th>\n",
       "      <td>serene nights and pristine sights</td>\n",
       "      <td>2021-10</td>\n",
       "    </tr>\n",
       "    <tr>\n",
       "      <th>4</th>\n",
       "      <td>sadskie</td>\n",
       "      <td>2021-10</td>\n",
       "    </tr>\n",
       "    <tr>\n",
       "      <th>5</th>\n",
       "      <td>happy hydration</td>\n",
       "      <td>2021-10</td>\n",
       "    </tr>\n",
       "    <tr>\n",
       "      <th>6</th>\n",
       "      <td>don't worry nt</td>\n",
       "      <td>2021-11</td>\n",
       "    </tr>\n",
       "    <tr>\n",
       "      <th>7</th>\n",
       "      <td>cold strawberry milk box</td>\n",
       "      <td>2022-1</td>\n",
       "    </tr>\n",
       "    <tr>\n",
       "      <th>8</th>\n",
       "      <td>mellow cutie starlight</td>\n",
       "      <td>2022-1</td>\n",
       "    </tr>\n",
       "  </tbody>\n",
       "</table>\n",
       "</div>"
      ],
      "text/plain": [
       "                           song_name release_date\n",
       "0                       comfortville      2021-10\n",
       "1                    celestial spark      2021-10\n",
       "2                      eternal bliss      2021-10\n",
       "3  serene nights and pristine sights      2021-10\n",
       "4                            sadskie      2021-10\n",
       "5                    happy hydration      2021-10\n",
       "6                     don't worry nt      2021-11\n",
       "7           cold strawberry milk box       2022-1\n",
       "8             mellow cutie starlight       2022-1"
      ]
     },
     "execution_count": 47,
     "metadata": {},
     "output_type": "execute_result"
    }
   ],
   "source": [
    "#The release dates of each song is as follows\n",
    "song_timeline_list = {'song_name': ['comfortville', 'celestial spark', 'eternal bliss', 'serene nights and pristine sights',\n",
    "                               'sadskie', 'happy hydration', 'don\\'t worry nt', 'cold strawberry milk box',\n",
    "                               'mellow cutie starlight'], 'release_date': ['2021-10', '2021-10',\n",
    "                                                                          '2021-10', '2021-10', '2021-10', '2021-10',\n",
    "                                                                          '2021-11', '2022-1', '2022-1']}\n",
    "song_timeline_data = pd.DataFrame(data=song_timeline_list)\n",
    "\n",
    "song_timeline_data.head(9)"
   ]
  },
  {
   "cell_type": "markdown",
   "id": "6767ae10",
   "metadata": {},
   "source": [
    "The song that has the most number of plays is **don't worry nt** and it was release a month later than 6 other songs. So a song released later has a chance to still outplay the older songs released."
   ]
  },
  {
   "cell_type": "code",
   "execution_count": 70,
   "id": "a207e857",
   "metadata": {},
   "outputs": [
    {
     "data": {
      "text/plain": [
       "Country of Sale\n",
       "PH    5588\n",
       "US      60\n",
       "IT      43\n",
       "ID      12\n",
       "MX       7\n",
       "FR       7\n",
       "MY       7\n",
       "CA       5\n",
       "AU       4\n",
       "ES       4\n",
       "CL       4\n",
       "RU       3\n",
       "TW       3\n",
       "PL       2\n",
       "IN       2\n",
       "VN       2\n",
       "JP       2\n",
       "BR       2\n",
       "NL       2\n",
       "TH       2\n",
       "SG       2\n",
       "SE       2\n",
       "UA       1\n",
       "GB       1\n",
       "RO       1\n",
       "QA       1\n",
       "HK       1\n",
       "CO       1\n",
       "PE       1\n",
       "DE       1\n",
       "LT       1\n",
       "DK       1\n",
       "ZA       1\n",
       "Name: Quantity, dtype: int64"
      ]
     },
     "execution_count": 70,
     "metadata": {},
     "output_type": "execute_result"
    }
   ],
   "source": [
    "country_sale_data = new_data.groupby(['Country of Sale'])['Quantity'].sum()\n",
    "country_sale_data.sort_values(ascending=False)"
   ]
  },
  {
   "cell_type": "markdown",
   "id": "b6b772ab",
   "metadata": {},
   "source": [
    "**PH** Has the most sales with 5588 plays where the other Countries did not even come close as the 2nd contributor is *US* with only 60 plays."
   ]
  },
  {
   "cell_type": "markdown",
   "id": "0edd927f",
   "metadata": {},
   "source": [
    "# Conclusions\n",
    "\n",
    "1. **don't worry nt** has the most plays out of all the songs.\n",
    "2. **PH** has the most amount of plays. This might be because I'm from PH too and I've marketed my songs mostly to friends and strangers who are from PH too.\n",
    "3. It's possible to release a new song and have it get more plays than the older songs. As seen by **don't worry nt** outperforming all the other songs despite not being the oldest released song. And newest songs like **cold strawberry milk box** and **mellow cutie starlight** having close scores with songs that were released first. A possibility for these happening is that they generally have higher qualities so people prefer them or I have done a better job at marketing them.\n",
    "4. Most of the plays are from **Spotify**. I have mostly marketed and showed people my works through spotify as most people I know are comfortable with Spotify and is generally easier to use."
   ]
  },
  {
   "cell_type": "code",
   "execution_count": null,
   "id": "b25bb9df",
   "metadata": {},
   "outputs": [],
   "source": []
  }
 ],
 "metadata": {
  "kernelspec": {
   "display_name": "Python 3 (ipykernel)",
   "language": "python",
   "name": "python3"
  },
  "language_info": {
   "codemirror_mode": {
    "name": "ipython",
    "version": 3
   },
   "file_extension": ".py",
   "mimetype": "text/x-python",
   "name": "python",
   "nbconvert_exporter": "python",
   "pygments_lexer": "ipython3",
   "version": "3.9.7"
  }
 },
 "nbformat": 4,
 "nbformat_minor": 5
}
